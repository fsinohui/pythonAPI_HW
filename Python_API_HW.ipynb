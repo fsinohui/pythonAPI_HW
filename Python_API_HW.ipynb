{
 "cells": [
  {
   "cell_type": "markdown",
   "metadata": {},
   "source": [
    "Python API HW.\n",
    "The temperature definatly gets hotter on average as you approach the equator. There are two low points in humidity between twenty and fourty for positive and negative lat. Wind gets stronger the further south y9u go past the equator. "
   ]
  },
  {
   "cell_type": "code",
   "execution_count": 30,
   "metadata": {
    "collapsed": true
   },
   "outputs": [],
   "source": [
    "import random\n",
    "from citipy import citipy\n",
    "import pandas as pd\n",
    "import requests as req\n",
    "import json\n",
    "import matplotlib.pyplot as plt"
   ]
  },
  {
   "cell_type": "code",
   "execution_count": 31,
   "metadata": {
    "collapsed": true
   },
   "outputs": [],
   "source": [
    "api_key = \"afbde06f4217fea7175e8c03acbc3eac\"\n",
    "url = \"http://api.openweathermap.org/data/2.5/weather?\"\n",
    "units = 'imperial'\n",
    "query_url = url + \"appid=\" + api_key + \"&units=\" + units + \"&q=\""
   ]
  },
  {
   "cell_type": "code",
   "execution_count": 32,
   "metadata": {},
   "outputs": [],
   "source": [
    "count = 0\n",
    "lats = []\n",
    "lngs = []\n",
    "\n",
    "while count < 1200:\n",
    "    lats.append(random.uniform(-90,90))\n",
    "    lngs.append(random.uniform(-180,180))\n",
    "    count = count+1"
   ]
  },
  {
   "cell_type": "code",
   "execution_count": 33,
   "metadata": {
    "collapsed": true
   },
   "outputs": [],
   "source": [
    "cities = ['london']\n",
    "countries =['GB']\n",
    "for lat, lng in zip(lats, lngs):\n",
    "    cityid = citipy.nearest_city(lat, lng)\n",
    "    city = cityid.city_name\n",
    "    country = cityid.country_code\n",
    "    cities.append(city)\n",
    "    countries.append(country)"
   ]
  },
  {
   "cell_type": "code",
   "execution_count": 35,
   "metadata": {
    "scrolled": true
   },
   "outputs": [
    {
     "name": "stdout",
     "output_type": "stream",
     "text": [
      "no city found\n",
      "no city found\n",
      "no city found\n",
      "no city found\n",
      "no city found\n",
      "no city found\n",
      "no city found\n",
      "no city found\n",
      "no city found\n",
      "no city found\n",
      "no city found\n",
      "no city found\n",
      "no city found\n",
      "no city found\n",
      "no city found\n",
      "no city found\n",
      "no city found\n",
      "no city found\n",
      "no city found\n",
      "no city found\n",
      "no city found\n",
      "no city found\n",
      "no city found\n",
      "no city found\n",
      "no city found\n",
      "no city found\n",
      "no city found\n",
      "no city found\n",
      "no city found\n",
      "no city found\n",
      "no city found\n",
      "no city found\n",
      "no city found\n",
      "no city found\n",
      "no city found\n",
      "no city found\n",
      "no city found\n",
      "no city found\n",
      "no city found\n",
      "no city found\n",
      "no city found\n",
      "no city found\n",
      "no city found\n",
      "no city found\n",
      "no city found\n",
      "no city found\n",
      "no city found\n",
      "no city found\n",
      "no city found\n",
      "no city found\n",
      "no city found\n",
      "no city found\n",
      "no city found\n",
      "no city found\n",
      "no city found\n",
      "no city found\n",
      "no city found\n",
      "no city found\n",
      "no city found\n",
      "no city found\n",
      "no city found\n",
      "no city found\n",
      "no city found\n",
      "no city found\n",
      "no city found\n",
      "no city found\n",
      "no city found\n",
      "no city found\n",
      "no city found\n",
      "no city found\n",
      "no city found\n",
      "no city found\n",
      "no city found\n",
      "no city found\n",
      "no city found\n",
      "no city found\n",
      "no city found\n",
      "no city found\n",
      "no city found\n",
      "no city found\n",
      "no city found\n",
      "no city found\n",
      "no city found\n",
      "no city found\n",
      "no city found\n",
      "no city found\n",
      "no city found\n",
      "no city found\n",
      "no city found\n",
      "no city found\n",
      "no city found\n",
      "no city found\n",
      "no city found\n",
      "no city found\n",
      "no city found\n"
     ]
    }
   ],
   "source": [
    "temp_data       = []\n",
    "lon_data        = [] \n",
    "temp_data       = []\n",
    "lat_data        = []\n",
    "humidity_data   = []\n",
    "cloud_data      = []\n",
    "wind_data       = []\n",
    "\n",
    "for city in cities:\n",
    "    weather_json = req.get(query_url + city).json()\n",
    "    try:\n",
    "        temp_data.append(weather_json['main']['temp'])\n",
    "        lon_data.append(weather_json['coord']['lon'])\n",
    "        lat_data.append(weather_json['coord']['lat'])\n",
    "        humidity_data.append(weather_json['main']['humidity'])\n",
    "        cloud_data.append(weather_json['clouds']['all'])\n",
    "        wind_data.append(weather_json['wind']['speed'])\n",
    "    except:\n",
    "        print('no city found')\n"
   ]
  },
  {
   "cell_type": "code",
   "execution_count": 36,
   "metadata": {},
   "outputs": [
    {
     "data": {
      "text/html": [
       "<div>\n",
       "<style>\n",
       "    .dataframe thead tr:only-child th {\n",
       "        text-align: right;\n",
       "    }\n",
       "\n",
       "    .dataframe thead th {\n",
       "        text-align: left;\n",
       "    }\n",
       "\n",
       "    .dataframe tbody tr th {\n",
       "        vertical-align: top;\n",
       "    }\n",
       "</style>\n",
       "<table border=\"1\" class=\"dataframe\">\n",
       "  <thead>\n",
       "    <tr style=\"text-align: right;\">\n",
       "      <th></th>\n",
       "      <th>cloud</th>\n",
       "      <th>humidity</th>\n",
       "      <th>lat</th>\n",
       "      <th>lon</th>\n",
       "      <th>temp</th>\n",
       "      <th>wind</th>\n",
       "    </tr>\n",
       "  </thead>\n",
       "  <tbody>\n",
       "    <tr>\n",
       "      <th>0</th>\n",
       "      <td>90</td>\n",
       "      <td>87</td>\n",
       "      <td>51.51</td>\n",
       "      <td>-0.13</td>\n",
       "      <td>46.74</td>\n",
       "      <td>13.87</td>\n",
       "    </tr>\n",
       "    <tr>\n",
       "      <th>1</th>\n",
       "      <td>80</td>\n",
       "      <td>100</td>\n",
       "      <td>72.79</td>\n",
       "      <td>-56.15</td>\n",
       "      <td>10.92</td>\n",
       "      <td>7.90</td>\n",
       "    </tr>\n",
       "    <tr>\n",
       "      <th>2</th>\n",
       "      <td>75</td>\n",
       "      <td>88</td>\n",
       "      <td>-7.84</td>\n",
       "      <td>-79.15</td>\n",
       "      <td>66.20</td>\n",
       "      <td>9.17</td>\n",
       "    </tr>\n",
       "    <tr>\n",
       "      <th>3</th>\n",
       "      <td>8</td>\n",
       "      <td>31</td>\n",
       "      <td>-46.19</td>\n",
       "      <td>168.86</td>\n",
       "      <td>70.01</td>\n",
       "      <td>18.63</td>\n",
       "    </tr>\n",
       "    <tr>\n",
       "      <th>4</th>\n",
       "      <td>75</td>\n",
       "      <td>83</td>\n",
       "      <td>-21.21</td>\n",
       "      <td>-159.78</td>\n",
       "      <td>73.40</td>\n",
       "      <td>3.36</td>\n",
       "    </tr>\n",
       "  </tbody>\n",
       "</table>\n",
       "</div>"
      ],
      "text/plain": [
       "   cloud  humidity    lat     lon   temp   wind\n",
       "0     90        87  51.51   -0.13  46.74  13.87\n",
       "1     80       100  72.79  -56.15  10.92   7.90\n",
       "2     75        88  -7.84  -79.15  66.20   9.17\n",
       "3      8        31 -46.19  168.86  70.01  18.63\n",
       "4     75        83 -21.21 -159.78  73.40   3.36"
      ]
     },
     "execution_count": 36,
     "metadata": {},
     "output_type": "execute_result"
    }
   ],
   "source": [
    "weather_data = {\"lon\": lon_data, 'temp':temp_data, 'lat':lat_data,'humidity':humidity_data, 'cloud':cloud_data, 'wind': wind_data}\n",
    "weather_data = pd.DataFrame(weather_data)\n",
    "weather_data.head() "
   ]
  },
  {
   "cell_type": "code",
   "execution_count": 37,
   "metadata": {},
   "outputs": [
    {
     "data": {
      "text/html": [
       "<div>\n",
       "<style>\n",
       "    .dataframe thead tr:only-child th {\n",
       "        text-align: right;\n",
       "    }\n",
       "\n",
       "    .dataframe thead th {\n",
       "        text-align: left;\n",
       "    }\n",
       "\n",
       "    .dataframe tbody tr th {\n",
       "        vertical-align: top;\n",
       "    }\n",
       "</style>\n",
       "<table border=\"1\" class=\"dataframe\">\n",
       "  <thead>\n",
       "    <tr style=\"text-align: right;\">\n",
       "      <th></th>\n",
       "      <th>cloud</th>\n",
       "      <th>humidity</th>\n",
       "      <th>lat</th>\n",
       "      <th>lon</th>\n",
       "      <th>temp</th>\n",
       "      <th>wind</th>\n",
       "    </tr>\n",
       "  </thead>\n",
       "  <tbody>\n",
       "    <tr>\n",
       "      <th>0</th>\n",
       "      <td>90</td>\n",
       "      <td>87</td>\n",
       "      <td>51.51</td>\n",
       "      <td>-0.13</td>\n",
       "      <td>46.74</td>\n",
       "      <td>13.87</td>\n",
       "    </tr>\n",
       "    <tr>\n",
       "      <th>1</th>\n",
       "      <td>80</td>\n",
       "      <td>100</td>\n",
       "      <td>72.79</td>\n",
       "      <td>-56.15</td>\n",
       "      <td>10.92</td>\n",
       "      <td>7.90</td>\n",
       "    </tr>\n",
       "    <tr>\n",
       "      <th>2</th>\n",
       "      <td>75</td>\n",
       "      <td>88</td>\n",
       "      <td>-7.84</td>\n",
       "      <td>-79.15</td>\n",
       "      <td>66.20</td>\n",
       "      <td>9.17</td>\n",
       "    </tr>\n",
       "    <tr>\n",
       "      <th>3</th>\n",
       "      <td>8</td>\n",
       "      <td>31</td>\n",
       "      <td>-46.19</td>\n",
       "      <td>168.86</td>\n",
       "      <td>70.01</td>\n",
       "      <td>18.63</td>\n",
       "    </tr>\n",
       "    <tr>\n",
       "      <th>4</th>\n",
       "      <td>75</td>\n",
       "      <td>83</td>\n",
       "      <td>-21.21</td>\n",
       "      <td>-159.78</td>\n",
       "      <td>73.40</td>\n",
       "      <td>3.36</td>\n",
       "    </tr>\n",
       "  </tbody>\n",
       "</table>\n",
       "</div>"
      ],
      "text/plain": [
       "   cloud  humidity    lat     lon   temp   wind\n",
       "0     90        87  51.51   -0.13  46.74  13.87\n",
       "1     80       100  72.79  -56.15  10.92   7.90\n",
       "2     75        88  -7.84  -79.15  66.20   9.17\n",
       "3      8        31 -46.19  168.86  70.01  18.63\n",
       "4     75        83 -21.21 -159.78  73.40   3.36"
      ]
     },
     "execution_count": 37,
     "metadata": {},
     "output_type": "execute_result"
    }
   ],
   "source": [
    "weather_df = weather_data.drop_duplicates(keep='first')\n",
    "weather_df.head()"
   ]
  },
  {
   "cell_type": "code",
   "execution_count": 38,
   "metadata": {},
   "outputs": [
    {
     "data": {
      "text/plain": [
       "504"
      ]
     },
     "execution_count": 38,
     "metadata": {},
     "output_type": "execute_result"
    }
   ],
   "source": [
    "len(weather_df)"
   ]
  },
  {
   "cell_type": "code",
   "execution_count": 39,
   "metadata": {},
   "outputs": [
    {
     "data": {
      "image/png": "[encoded data removed]",
      "text/plain": [
       "<matplotlib.figure.Figure at 0x2142287a3c8>"
      ]
     },
     "metadata": {},
     "output_type": "display_data"
    }
   ],
   "source": [
    "# Build a scatter plot for each data type\n",
    "plt.scatter(weather_data[\"lat\"], weather_data[\"temp\"], marker=\"o\")\n",
    "\n",
    "# Incorporate the other graph properties\n",
    "plt.title(\"Temperature in World Cities\")\n",
    "plt.ylabel(\"Temperature\")\n",
    "plt.xlabel(\"Latitude\")\n",
    "plt.show()"
   ]
  },
  {
   "cell_type": "code",
   "execution_count": 40,
   "metadata": {},
   "outputs": [
    {
     "data": {
      "image/png": "[encoded data removed]",
      "text/plain": [
       "<matplotlib.figure.Figure at 0x21422aab978>"
      ]
     },
     "metadata": {},
     "output_type": "display_data"
    }
   ],
   "source": [
    "plt.scatter(weather_data[\"lat\"], weather_data[\"humidity\"], marker=\"o\")\n",
    "plt.title(\"Humidity in World Cities\")\n",
    "plt.ylabel(\"Humidity\")\n",
    "plt.xlabel(\"Latitude\")\n",
    "plt.show()"
   ]
  },
  {
   "cell_type": "code",
   "execution_count": 44,
   "metadata": {},
   "outputs": [
    {
     "data": {
      "image/png": "[encoded data removed]",
      "text/plain": [
       "<matplotlib.figure.Figure at 0x214242f6160>"
      ]
     },
     "metadata": {},
     "output_type": "display_data"
    }
   ],
   "source": [
    "plt.scatter(weather_data[\"lat\"], weather_data[\"cloud\"], marker=\"o\")\n",
    "plt.title(\"Cloudiness in World Cities\")\n",
    "plt.ylabel(\"Cloudiness\")\n",
    "plt.xlabel(\"Latitude\")\n",
    "plt.show()"
   ]
  },
  {
   "cell_type": "code",
   "execution_count": 43,
   "metadata": {},
   "outputs": [
    {
     "data": {
      "image/png": "[encoded data removed]",
      "text/plain": [
       "<matplotlib.figure.Figure at 0x21422ab5cf8>"
      ]
     },
     "metadata": {},
     "output_type": "display_data"
    }
   ],
   "source": [
    "plt.scatter(weather_data[\"lat\"], weather_data[\"wind\"], marker=\"o\")\n",
    "plt.title(\"wind in World Cities\")\n",
    "plt.ylabel(\"Wind Speed\")\n",
    "plt.xlabel(\"Latitude\")\n",
    "plt.show()"
   ]
  },
  {
   "cell_type": "code",
   "execution_count": null,
   "metadata": {
    "collapsed": true
   },
   "outputs": [],
   "source": []
  },
  {
   "cell_type": "code",
   "execution_count": null,
   "metadata": {
    "collapsed": true
   },
   "outputs": [],
   "source": []
  }
 ],
 "metadata": {
  "kernelspec": {
   "display_name": "Python 3",
   "language": "python",
   "name": "python3"
  },
  "language_info": {
   "codemirror_mode": {
    "name": "ipython",
    "version": 3
   },
   "file_extension": ".py",
   "mimetype": "text/x-python",
   "name": "python",
   "nbconvert_exporter": "python",
   "pygments_lexer": "ipython3",
   "version": "3.6.2"
  }
 },
 "nbformat": 4,
 "nbformat_minor": 2
}
